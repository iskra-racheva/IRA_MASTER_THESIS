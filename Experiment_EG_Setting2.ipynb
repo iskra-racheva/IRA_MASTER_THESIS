{
 "cells": [
  {
   "cell_type": "markdown",
   "metadata": {},
   "source": [
    "### Epsilon-Greedy Experiment"
   ]
  },
  {
   "cell_type": "code",
   "execution_count": null,
   "metadata": {},
   "outputs": [],
   "source": [
    "print(\"Epsilon-Greedy Experiment 2\")"
   ]
  },
  {
   "cell_type": "code",
   "execution_count": null,
   "metadata": {},
   "outputs": [],
   "source": [
    "import numpy as np\n",
    "import matplotlib.pyplot as plt\n",
    "import pandas as pd\n",
    "import math\n",
    "from scipy.stats import t\n",
    "from scipy.stats import uniform\n",
    "import matplotlib.patheffects as mpe\n",
    "%matplotlib inline\n",
    "%run ./Experiment_Functions.ipynb\n",
    "%run ./Help_Functions_Experiments.ipynb\n",
    "# load functions for the creation of the different distributions"
   ]
  },
  {
   "cell_type": "markdown",
   "metadata": {},
   "source": [
    "# For each setting we are going  to try out different values fo the parameters epsilon and the constant value:\n",
    "### epsilon = 0.01, 0.05 or 0.1\n",
    "### constant_value = 0.5, 0,9 or 1"
   ]
  },
  {
   "cell_type": "markdown",
   "metadata": {},
   "source": [
    "## Setting 2:\n",
    "### list_distributions_2 = 50*[\"Discrete_Uniform\"] +  50*[\"Uniform_Sorted\"]  \n",
    "### list_distributions_2 with n_samples_5e5"
   ]
  },
  {
   "cell_type": "code",
   "execution_count": null,
   "metadata": {},
   "outputs": [],
   "source": [
    "for epsilon in [0.01,0.05,0.1]:\n",
    "    for constant_value in [0.5, 0.9,1]:\n",
    "        print(\"Epsilon Greedy: New Setting\")\n",
    "        total_reward, arm_rewards, arm_counts, cum_rewards, rewards,history = epsilon_greedy(list_distributions_2, n_samples_5e5, epsilon=epsilon, constant_value=constant_value)\n",
    "        plot_history(rewards,cum_rewards, arm_counts)\n",
    "        plot_rewards_distribution_together(arm_rewards)\n",
    "        plot_history_iterations_2(history)\n",
    "        print(\"Total reward\", total_reward)\n",
    "        print(\"\\n\")"
   ]
  },
  {
   "cell_type": "code",
   "execution_count": null,
   "metadata": {},
   "outputs": [],
   "source": []
  },
  {
   "cell_type": "code",
   "execution_count": null,
   "metadata": {},
   "outputs": [],
   "source": []
  }
 ],
 "metadata": {
  "kernelspec": {
   "display_name": "Python 3 (ipykernel)",
   "language": "python",
   "name": "python3"
  },
  "language_info": {
   "codemirror_mode": {
    "name": "ipython",
    "version": 3
   },
   "file_extension": ".py",
   "mimetype": "text/x-python",
   "name": "python",
   "nbconvert_exporter": "python",
   "pygments_lexer": "ipython3",
   "version": "3.9.7"
  }
 },
 "nbformat": 4,
 "nbformat_minor": 4
}
