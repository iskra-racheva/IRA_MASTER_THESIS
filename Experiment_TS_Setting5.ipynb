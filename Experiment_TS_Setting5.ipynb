{
 "cells": [
  {
   "cell_type": "markdown",
   "metadata": {},
   "source": [
    "### Thompson-Sampling Experiment 5"
   ]
  },
  {
   "cell_type": "code",
   "execution_count": null,
   "metadata": {},
   "outputs": [],
   "source": [
    "print(\"Thompson-Sampling Experiment 5\")"
   ]
  },
  {
   "cell_type": "code",
   "execution_count": null,
   "metadata": {},
   "outputs": [],
   "source": [
    "import numpy as np\n",
    "import matplotlib.pyplot as plt\n",
    "import pandas as pd\n",
    "import math\n",
    "from scipy.stats import t\n",
    "from scipy.stats import uniform\n",
    "import matplotlib.patheffects as mpe\n",
    "%matplotlib inline\n",
    "%run ./Help_Functions_Experiments.ipynb\n",
    "%run ./Experiment_Functions.ipynb\n",
    "# load functions for the creation of the different distributions"
   ]
  },
  {
   "cell_type": "markdown",
   "metadata": {},
   "source": [
    "# For each setting we are going  to try out different values fo the parameters num_consec_elem and quantile:\n",
    "### num_consec_elem = 1,3,5\n",
    "### quantile = 0.05, 0.025, 0.005"
   ]
  },
  {
   "cell_type": "markdown",
   "metadata": {},
   "source": [
    "## Setting 5:\n",
    "### list_distributions_5 = 50*[\"Uniform_Sorted\"] +  50*[\"Poisson\"] + 50*[\"Uniform_Reverse_Sorted\"] + 50*[\"Zipf\"] +  50*[\"Uniform_Reverse_Sorted\"] + 50*[\"Discrete_Uniform\"]\n",
    "### list_distributions_5 with n_samples_1e5"
   ]
  },
  {
   "cell_type": "code",
   "execution_count": null,
   "metadata": {},
   "outputs": [],
   "source": [
    "for num_consec_elem in [1,3,5]:\n",
    "    for quantile in [0.05, 0.025, 0.005]:\n",
    "        print(\"Thompson Sampling: New Setting\")\n",
    "        total_reward, arm_rewards, arm_counts, cum_rewards, rewards,history, number_of_restarts, restarts =  thompson_sampling(list_distributions_5, n_samples_1e5, num_consec_elem = num_consec_elem,quantile = quantile)\n",
    "        plot_history(rewards,cum_rewards, arm_counts)\n",
    "        plot_rewards_distribution_together(arm_rewards)\n",
    "        plot_history_iterations_5(history,restarts)\n",
    "        print(\"Total reward\", total_reward)\n",
    "        print(\"Number of restarts\", number_of_restarts, \"in iterations:\", restarts)\n",
    "        print(\"\\n\")"
   ]
  },
  {
   "cell_type": "code",
   "execution_count": null,
   "metadata": {},
   "outputs": [],
   "source": []
  }
 ],
 "metadata": {
  "kernelspec": {
   "display_name": "Python 3 (ipykernel)",
   "language": "python",
   "name": "python3"
  },
  "language_info": {
   "codemirror_mode": {
    "name": "ipython",
    "version": 3
   },
   "file_extension": ".py",
   "mimetype": "text/x-python",
   "name": "python",
   "nbconvert_exporter": "python",
   "pygments_lexer": "ipython3",
   "version": "3.9.7"
  }
 },
 "nbformat": 4,
 "nbformat_minor": 4
}
